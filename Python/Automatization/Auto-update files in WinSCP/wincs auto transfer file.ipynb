{
 "cells": [
  {
   "cell_type": "code",
   "execution_count": 13,
   "metadata": {},
   "outputs": [],
   "source": [
    "import os\n",
    "import os.path\n",
    "import datetime\n",
    "import pandas as pd\n",
    "import time\n",
    "from datetime import datetime\n",
    "import pysftp\n",
    "from func_timeout import func_timeout"
   ]
  },
  {
   "cell_type": "markdown",
   "metadata": {},
   "source": [
    "Directory where the files are saved and create the list of all files in directory"
   ]
  },
  {
   "cell_type": "code",
   "execution_count": 14,
   "metadata": {},
   "outputs": [],
   "source": [
    "'''directory'''\n",
    "search_dir = f'C:\\Users\\{user}\\Documents'\n",
    "\n",
    "'''list all files'''\n",
    "files = os.listdir(search_dir)"
   ]
  },
  {
   "cell_type": "markdown",
   "metadata": {},
   "source": [
    "create a list with name and date of alteration (file)"
   ]
  },
  {
   "cell_type": "code",
   "execution_count": 16,
   "metadata": {},
   "outputs": [],
   "source": [
    "list_files = {None : None}\n",
    "for file in files:\n",
    "    date = datetime.fromtimestamp(os.path.getmtime(search_dir + file)).strftime('%d/%m/%Y %H:%M:%S')\n",
    "    new_item = {file : date}\n",
    "    list_files.update(new_item)"
   ]
  },
  {
   "cell_type": "markdown",
   "metadata": {},
   "source": [
    "we created the list of files what will is update in WinSCP"
   ]
  },
  {
   "cell_type": "code",
   "execution_count": 17,
   "metadata": {},
   "outputs": [],
   "source": [
    "up_files = []\n",
    "\n",
    "for file in list_files.keys():\n",
    "    if file is not None:\n",
    "        day_file = int(list_files[file][0:2])\n",
    "        \n",
    "        if day_file == pd.Timestamp('now').day:\n",
    "            hour_file = int(list_files[file][11:13])\n",
    "            hour_now = int(pd.Timestamp('now').hour)\n",
    "\n",
    "            if hour_now >= 8 and hour_now < 15 and hour_file >= 8 and hour_file < 15:\n",
    "                up_files.append(file)\n",
    "            elif hour_now >= 15 and hour_now < 24 and hour_file >= 15 and hour_file < 24:\n",
    "                up_files.append(file)"
   ]
  },
  {
   "cell_type": "markdown",
   "metadata": {},
   "source": [
    "we created the list of timers for each size file"
   ]
  },
  {
   "cell_type": "code",
   "execution_count": 18,
   "metadata": {},
   "outputs": [],
   "source": [
    "list_size = {None : None}\n",
    "new_item = None\n",
    "\n",
    "for file in files:\n",
    "\n",
    "    size = os.path.getsize(search_dir + file) * 0.0009765625\n",
    "\n",
    "    if size <= 10000:\n",
    "        new_item = {file : 30}\n",
    "        list_size.update(new_item)\n",
    "    elif size > 10000 and size <= 50000:\n",
    "        new_item = {file : 60}\n",
    "        list_size.update(new_item)\n",
    "    elif size > 50000 and size <= 100000:\n",
    "        new_item = {file : 90}\n",
    "        list_size.update(new_item)\n",
    "    elif size > 100000 and size <= 150000:\n",
    "        new_item = {file : 180}\n",
    "        list_size.update(new_item)\n",
    "    elif size > 150000 and size <= 300000:\n",
    "        new_item = {file : 300}\n",
    "        list_size.update(new_item)\n",
    "    elif size > 300000:\n",
    "        new_item = {file : 360}\n",
    "        list_size.update(new_item)"
   ]
  },
  {
   "cell_type": "markdown",
   "metadata": {},
   "source": [
    "Now, we connect with WinSCP and we upload the files in the server"
   ]
  },
  {
   "cell_type": "code",
   "execution_count": 19,
   "metadata": {},
   "outputs": [],
   "source": [
    "def connection_server(file, file_up, server, user, key, port, cnopts):\n",
    "    with pysftp.Connection(host = server, username = user, password = key, port = port,  cnopts = cnopts) as sftp:\n",
    "        print('Connection successfully')\n",
    "\n",
    "        with sftp.cd('user/share/prod/'):\n",
    "\n",
    "            print(f'{file} loading...')\n",
    "\n",
    "            sftp.put(file_up, confirm = False, preserve_mtime=False)\n",
    "\n",
    "            print(f'connection and load of file {file} successful.')\n",
    "\n",
    "            time.sleep(3)\n",
    "    sftp.close()"
   ]
  },
  {
   "cell_type": "code",
   "execution_count": null,
   "metadata": {},
   "outputs": [],
   "source": [
    "server = 'host'\n",
    "user = 'my_user'\n",
    "key = 'my_password'\n",
    "port = 22\n",
    "\n",
    "cnopts = pysftp.CnOpts()\n",
    "cnopts.hostkeys = None\n",
    "sec_timeout = 0\n",
    "\n",
    "for file in up_files:\n",
    "\n",
    "    file_up = search_dir + file\n",
    "    sec_timeout = list_size[file]\n",
    "    print(f'{sec_timeout} seconds')\n",
    "    \n",
    "    try:\n",
    "        func_timeout(sec_timeout, connection_server, args = (file, file_up, server, user, key, port, cnopts))\n",
    "    except:\n",
    "        print(f'{file} time out of execution after {sec_timeout}')\n",
    "### upar no prod"
   ]
  },
  {
   "cell_type": "code",
   "execution_count": null,
   "metadata": {},
   "outputs": [],
   "source": []
  }
 ],
 "metadata": {
  "interpreter": {
   "hash": "27b35178ac8fa333efb63321ec8357303a0e2855ce086b8dd6bd44df3b3efcde"
  },
  "kernelspec": {
   "display_name": "Python 3.10.1 64-bit",
   "language": "python",
   "name": "python3"
  },
  "language_info": {
   "codemirror_mode": {
    "name": "ipython",
    "version": 3
   },
   "file_extension": ".py",
   "mimetype": "text/x-python",
   "name": "python",
   "nbconvert_exporter": "python",
   "pygments_lexer": "ipython3",
   "version": "3.10.4"
  },
  "orig_nbformat": 4
 },
 "nbformat": 4,
 "nbformat_minor": 2
}
